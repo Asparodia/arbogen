{
 "cells": [
  {
   "cell_type": "code",
   "execution_count": 3,
   "metadata": {},
   "outputs": [],
   "source": [
    "from random import randint"
   ]
  },
  {
   "cell_type": "code",
   "execution_count": 4,
   "metadata": {},
   "outputs": [],
   "source": [
    "def comptage(n):\n",
    "    if n <= 0: return 1\n",
    "    file = open(\"save/Bk_save.txt\",\"r\")\n",
    "    pred = []\n",
    "    for line in file:\n",
    "        pred.append(int(line[:-1]))\n",
    "    file.close()\n",
    "    file = open(\"save/Bk_save.txt\", \"a+\")\n",
    "    if pred == []: \n",
    "        pred = [1]\n",
    "        file.write(\"1\\n\")\n",
    "    if pred[0] != 1:\n",
    "        print(\"Error : B0 is incorrect\")\n",
    "        return -1    \n",
    "    Bk = 0\n",
    "    \n",
    "    for i in range(len(pred),n):\n",
    "        for k in range(0,len(pred)):\n",
    "            Bk += pred[k] * pred[len(pred)-1-k]\n",
    "        pred.append(Bk)\n",
    "        file.write(str(Bk) + \"\\n\")\n",
    "        Bk = 0\n",
    "    file.close()\n",
    "    \n",
    "    return pred[n]\n",
    "        "
   ]
  },
  {
   "cell_type": "code",
   "execution_count": 14,
   "metadata": {},
   "outputs": [
    {
     "data": {
      "text/plain": [
       "42"
      ]
     },
     "execution_count": 14,
     "metadata": {},
     "output_type": "execute_result"
    }
   ],
   "source": [
    "comptage(5)"
   ]
  },
  {
   "cell_type": "code",
   "execution_count": 6,
   "metadata": {},
   "outputs": [],
   "source": [
    "def gen(n):\n",
    "    if n is 0:\n",
    "        return '0'\n",
    "    r = randint(0,comptage(n)-1)\n",
    "    k = 0\n",
    "    while r >= 0:\n",
    "        r = r - comptage(k) * comptage(n-1-k)\n",
    "        k += 1\n",
    "    k = k - 1\n",
    "    return \"(*, \" + gen(k) + \", \" + gen(n-1-k) + \")\""
   ]
  },
  {
   "cell_type": "code",
   "execution_count": 7,
   "metadata": {},
   "outputs": [
    {
     "data": {
      "text/plain": [
       "'(*, (*, 0, (*, 0, 0)), (*, 0, (*, (*, (*, (*, (*, 0, (*, (*, 0, (*, 0, (*, 0, 0))), (*, 0, 0))), (*, (*, (*, 0, (*, 0, 0)), 0), 0)), (*, 0, 0)), (*, 0, 0)), 0)))'"
      ]
     },
     "execution_count": 7,
     "metadata": {},
     "output_type": "execute_result"
    }
   ],
   "source": [
    "gen(20)"
   ]
  },
  {
   "cell_type": "code",
   "execution_count": 10,
   "metadata": {},
   "outputs": [],
   "source": [
    "def gen_exh(n,r):\n",
    "    if n is 0:\n",
    "        return '0'\n",
    "    k = 0\n",
    "    while r >= 0:\n",
    "        r = r - comptage(k) * comptage(n-1-k)\n",
    "        k = k + 1\n",
    "    k = k - 1\n",
    "    r = r + comptage(k) * comptage(n-1-k)\n",
    "    return \"(*, \" + gen_exh(k, r % comptage(k)) + \", \" + gen_exh(n-1-k, r // comptage(k)) + \")\""
   ]
  },
  {
   "cell_type": "code",
   "execution_count": 11,
   "metadata": {},
   "outputs": [
    {
     "data": {
      "text/plain": [
       "'(*, (*, 0, (*, 0, 0)), (*, 0, (*, 0, 0)))'"
      ]
     },
     "execution_count": 11,
     "metadata": {},
     "output_type": "execute_result"
    }
   ],
   "source": [
    "gen_exh(5,19)"
   ]
  },
  {
   "cell_type": "code",
   "execution_count": 12,
   "metadata": {},
   "outputs": [
    {
     "data": {
      "text/plain": [
       "'(*, 0, (*, 0, 0))'"
      ]
     },
     "execution_count": 12,
     "metadata": {},
     "output_type": "execute_result"
    }
   ],
   "source": [
    "gen_exh(2,0)"
   ]
  }
 ],
 "metadata": {
  "kernelspec": {
   "display_name": "Python 3",
   "language": "python",
   "name": "python3"
  },
  "language_info": {
   "codemirror_mode": {
    "name": "ipython",
    "version": 3
   },
   "file_extension": ".py",
   "mimetype": "text/x-python",
   "name": "python",
   "nbconvert_exporter": "python",
   "pygments_lexer": "ipython3",
   "version": "3.5.3"
  }
 },
 "nbformat": 4,
 "nbformat_minor": 2
}

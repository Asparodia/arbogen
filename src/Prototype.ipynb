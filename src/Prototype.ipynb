{
 "cells": [
  {
   "cell_type": "code",
   "execution_count": 3,
   "metadata": {},
   "outputs": [],
   "source": [
    "from random import randint"
   ]
  },
  {
   "cell_type": "code",
   "execution_count": 125,
   "metadata": {},
   "outputs": [],
   "source": [
    "# Grammar Object\n",
    "\n",
    "class grammar():\n",
    "    \n",
    "    def __init__(self,rule_list = None):\n",
    "        self.rule_list = rule_list\n",
    "        \n",
    "    def __str__(self):\n",
    "        s = \"\"\n",
    "        for rule in self.rule_list:\n",
    "            s = s + str(rule) + '\\n'\n",
    "        return s[:-1]\n",
    "        \n",
    "        \n",
    "class rule():\n",
    "    \n",
    "    def __init__(self,name = \"\", component_list = None):\n",
    "        self.name = name\n",
    "        self.component_list = component_list\n",
    "        \n",
    "    def __str__(self):\n",
    "        s = self.name + \" = \"\n",
    "        for component in self.component_list:\n",
    "            s = s + str(component) + \" + \"\n",
    "        return s[:-3]\n",
    "        \n",
    "        \n",
    "class component(list):\n",
    "    \n",
    "    def __init__(self,args):\n",
    "        if type(args) == str:\n",
    "            self.Str = args\n",
    "            self.List = None\n",
    "        if type(args) == list:\n",
    "            self.List = args\n",
    "            self.Str = None\n",
    "            \n",
    "    def __str__(self):\n",
    "        s = \"\"\n",
    "        if self.List is None:\n",
    "            return self.Str\n",
    "        if self.Str is None:\n",
    "            for elem in self.List:\n",
    "                s = s + elem + \" * \"\n",
    "            return s[:-3]    "
   ]
  },
  {
   "cell_type": "code",
   "execution_count": 126,
   "metadata": {},
   "outputs": [
    {
     "name": "stdout",
     "output_type": "stream",
     "text": [
      "B = Z + Z * B + Z * B * B\n"
     ]
    }
   ],
   "source": [
    "C0 = component(\"Z\")\n",
    "C1 = component([\"Z\",\"B\"])\n",
    "C2 = component([\"Z\",\"B\",\"B\"])\n",
    "R = rule(\"B\",[C0,C1,C2])\n",
    "G = grammar([R])\n",
    "\n",
    "print(G)\n"
   ]
  },
  {
   "cell_type": "code",
   "execution_count": 45,
   "metadata": {},
   "outputs": [
    {
     "name": "stdout",
     "output_type": "stream",
     "text": [
      "1\n",
      "<class '__main__.Elem'>\n",
      "<class '__main__.reference'>\n"
     ]
    }
   ],
   "source": [
    "S = Elem(1)\n",
    "type(S) == Seq\n",
    "E = elem(S)\n",
    "print(S)\n",
    "print(type(S))\n",
    "R = reference(1)\n",
    "print(type(R))"
   ]
  },
  {
   "cell_type": "code",
   "execution_count": 47,
   "metadata": {},
   "outputs": [],
   "source": [
    "def comptage(n):\n",
    "    if n <= 0: return 1\n",
    "    file = open(\"save/Bk_save.txt\",\"r\")\n",
    "    pred = []\n",
    "    for line in file:\n",
    "        pred.append(int(line[:-1]))\n",
    "    file.close()\n",
    "    file = open(\"save/Bk_save.txt\", \"a+\")\n",
    "    if pred == []: \n",
    "        pred = [1]\n",
    "        file.write(\"1\\n\")\n",
    "    if pred[0] != 1:\n",
    "        print(\"Error : B0 is incorrect\")\n",
    "        return -1    \n",
    "    Bk = 0\n",
    "    \n",
    "    for i in range(len(pred),n):\n",
    "        for k in range(0,len(pred)):\n",
    "            Bk += pred[k] * pred[len(pred)-1-k]\n",
    "        pred.append(Bk)\n",
    "        file.write(str(Bk) + \"\\n\")\n",
    "        Bk = 0\n",
    "    file.close()\n",
    "    \n",
    "    return pred[n]\n",
    "        "
   ]
  },
  {
   "cell_type": "code",
   "execution_count": 49,
   "metadata": {},
   "outputs": [
    {
     "data": {
      "text/plain": [
       "5"
      ]
     },
     "execution_count": 49,
     "metadata": {},
     "output_type": "execute_result"
    }
   ],
   "source": [
    "comptage(3)"
   ]
  },
  {
   "cell_type": "code",
   "execution_count": 6,
   "metadata": {},
   "outputs": [],
   "source": [
    "def gen(n):\n",
    "    if n is 0:\n",
    "        return '0'\n",
    "    r = randint(0,comptage(n)-1)\n",
    "    k = 0\n",
    "    while r >= 0:\n",
    "        r = r - comptage(k) * comptage(n-1-k)\n",
    "        k += 1\n",
    "    k = k - 1\n",
    "    return \"(*, \" + gen(k) + \", \" + gen(n-1-k) + \")\""
   ]
  },
  {
   "cell_type": "code",
   "execution_count": 10,
   "metadata": {},
   "outputs": [],
   "source": [
    "def gen_exh(n,r):\n",
    "    if n is 0:\n",
    "        return '0'\n",
    "    k = 0\n",
    "    while r >= 0:\n",
    "        r = r - comptage(k) * comptage(n-1-k)\n",
    "        k = k + 1\n",
    "    k = k - 1\n",
    "    r = r + comptage(k) * comptage(n-1-k)\n",
    "    return \"(*, \" + gen_exh(k, r % comptage(k)) + \", \" + gen_exh(n-1-k, r // comptage(k)) + \")\""
   ]
  },
  {
   "cell_type": "code",
   "execution_count": 27,
   "metadata": {},
   "outputs": [],
   "source": [
    "def gen_UnaryBinary(n):\n",
    "    if n is 0:\n",
    "        return ' '\n",
    "    if n is 1:\n",
    "        return '0'\n",
    "    r = randint(0,comptage(n)-1)\n",
    "    k = 0\n",
    "    while r >= 0:\n",
    "        r = r - comptage(k) * comptage(n-1-k)\n",
    "        k += 1\n",
    "    k = k - 1\n",
    "    return \"(*, \" + gen_UnaryBinary(k) + \", \" + gen_UnaryBinary(n-1-k) + \")\""
   ]
  },
  {
   "cell_type": "code",
   "execution_count": 41,
   "metadata": {},
   "outputs": [],
   "source": [
    "def gen_exh_UnaryBinary(n,r):\n",
    "    if n is 0:\n",
    "        return ' '\n",
    "    if n is 1:\n",
    "        return '0'\n",
    "    k = 0\n",
    "    while r >= 0:\n",
    "        r = r - comptage(k) * comptage(n-1-k)\n",
    "        k = k + 1\n",
    "    k = k - 1\n",
    "    r = r + comptage(k) * comptage(n-1-k)\n",
    "    return \"(*, \" + gen_exh_UnaryBinary(k, r % comptage(k)) + \", \" + gen_exh_UnaryBinary(n-1-k, r // comptage(k)) + \")\""
   ]
  }
 ],
 "metadata": {
  "kernelspec": {
   "display_name": "Python 3",
   "language": "python",
   "name": "python3"
  },
  "language_info": {
   "codemirror_mode": {
    "name": "ipython",
    "version": 3
   },
   "file_extension": ".py",
   "mimetype": "text/x-python",
   "name": "python",
   "nbconvert_exporter": "python",
   "pygments_lexer": "ipython3",
   "version": "3.5.3"
  }
 },
 "nbformat": 4,
 "nbformat_minor": 2
}

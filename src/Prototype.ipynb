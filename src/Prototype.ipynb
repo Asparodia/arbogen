{
 "cells": [
  {
   "cell_type": "code",
   "execution_count": 2,
   "metadata": {},
   "outputs": [],
   "source": [
    "from numpy import array\n",
    "import networkx as nx"
   ]
  },
  {
   "cell_type": "markdown",
   "metadata": {},
   "source": [
    "## Grammar\n",
    "/!\\ Ne pas retranscrire en Ocaml, il s'agit d'une version python de la grammaire d'Arbogen."
   ]
  },
  {
   "cell_type": "code",
   "execution_count": 3,
   "metadata": {},
   "outputs": [],
   "source": [
    "class Elem(str):\n",
    "    \n",
    "    def __init__(self, string):\n",
    "        self = string\n",
    "        \n",
    "    def __str__(self):\n",
    "        return self"
   ]
  },
  {
   "cell_type": "code",
   "execution_count": 4,
   "metadata": {},
   "outputs": [],
   "source": [
    "class Component():\n",
    "    \n",
    "    def __init__(self, string, rule_name):\n",
    "        string = string.replace(' ','').split('*')\n",
    "        self.int = 0\n",
    "        self.elements = []\n",
    "        for s in string:\n",
    "            if s[:2] == '<z':\n",
    "                if s[2] == '>':\n",
    "                    self.int += 1\n",
    "                else:\n",
    "                    self.int += int(s[3])\n",
    "            if s == rule_name:\n",
    "                self.elements.append(Elem(s))     \n",
    "                \n",
    "    def __str__(self):\n",
    "        if self.int == 0:\n",
    "            string = \"Eps * \"\n",
    "        elif self.int == 1:\n",
    "            string = \"<z> * \"\n",
    "        else:\n",
    "            string = \"<z^\" + str(self.int) + \"> * \"\n",
    "        for element in self.elements:\n",
    "            string += str(element) + \" * \"\n",
    "        return string[:-3]"
   ]
  },
  {
   "cell_type": "code",
   "execution_count": 5,
   "metadata": {},
   "outputs": [],
   "source": [
    "class Rule:\n",
    "    \n",
    "    def __init__(self, string):\n",
    "        self.name,string = string.replace(' ','').split('=')\n",
    "        self.components = []\n",
    "        for s in string.split('+'):\n",
    "            self.components.append(Component(s,self.name))\n",
    "    \n",
    "    def __str__(self):\n",
    "        string = self.name + ' = '\n",
    "        for component in self.components:\n",
    "            string += str(component) + \" + \"\n",
    "        return string[:-3]"
   ]
  },
  {
   "cell_type": "code",
   "execution_count": 6,
   "metadata": {},
   "outputs": [
    {
     "name": "stdout",
     "output_type": "stream",
     "text": [
      "B = Eps + <z> * B + <z^2> * B * B\n"
     ]
    }
   ],
   "source": [
    "R = Rule(\"B = <z^0> + <z> * B + <z^2> * B * B\")\n",
    "print(R)"
   ]
  },
  {
   "cell_type": "markdown",
   "metadata": {},
   "source": [
    "## Utils"
   ]
  },
  {
   "cell_type": "code",
   "execution_count": 7,
   "metadata": {},
   "outputs": [],
   "source": [
    "def number_of_recursions(component):\n",
    "    return len(component.elements)\n",
    "\n",
    "def number_of_nodes(component):\n",
    "    return component.int"
   ]
  },
  {
   "cell_type": "code",
   "execution_count": 8,
   "metadata": {},
   "outputs": [],
   "source": [
    "def factorial(n):\n",
    "    result = 1\n",
    "    for i in range(1, n + 1):\n",
    "        result *= i\n",
    "    return result"
   ]
  },
  {
   "cell_type": "code",
   "execution_count": 9,
   "metadata": {},
   "outputs": [],
   "source": [
    "def next_partition_with_factor(base):\n",
    "    modification = False\n",
    "    duplicate = 1\n",
    "    den = 1\n",
    "    for i in range(0, len(base) - 1):\n",
    "        if not modification and base[i] - 1 >= base[i + 1] + 1:\n",
    "            base[i] -= 1\n",
    "            base[i + 1] += 1\n",
    "            modification = True\n",
    "        if base[i] == base[i+1]:\n",
    "            duplicate += 1\n",
    "            den *= duplicate\n",
    "        else:\n",
    "            duplicate = 1\n",
    "    return modification,factorial(len(base))//den, base\n",
    "                \n",
    "\n",
    "    "
   ]
  },
  {
   "cell_type": "markdown",
   "metadata": {},
   "source": [
    "## Count"
   ]
  },
  {
   "cell_type": "code",
   "execution_count": 10,
   "metadata": {},
   "outputs": [],
   "source": [
    "def count(N,rule):\n",
    "    \n",
    "    iFile = open(\"backup.cnt\", 'r')\n",
    "    string = iFile.read().split('\\n')\n",
    "    iFile.close()\n",
    "    \n",
    "    backup = [0] * max(len(string)*2,1000)\n",
    "    number_of_elements = 0\n",
    "    for i in range(len(string) - 1):\n",
    "        backup[i] = string[i]\n",
    "        number_of_elements += 1\n",
    "    \n",
    "    oFile = open(\"backup.cnt\",'a')\n",
    "    for n in range(number_of_elements,N + 1):\n",
    "        Bn = 0\n",
    "        for component in rule.components:\n",
    "            \n",
    "            if n - number_of_nodes(component) >= 0:\n",
    "                if number_of_recursions(component) == 0 and number_of_nodes(component) == n:\n",
    "                    Bn += 1\n",
    "                else:\n",
    "                    base = [n - number_of_nodes(component)] + [0]*(number_of_recursions(component) - 1)\n",
    "                    modification = True\n",
    "                    if number_of_nodes(component) == n:\n",
    "                        factor = 1\n",
    "                    else: factor = number_of_recursions(component)\n",
    "                    while modification:\n",
    "                        product = 1\n",
    "                        for e in base:\n",
    "                            product *= backup[e]\n",
    "                        Bn += product * factor\n",
    "                        modification, factor, base =  next_partition_with_factor(base)\n",
    "        \n",
    "        if len(backup) - 1== number_of_elements:\n",
    "            backup_increased = [0]*2*number_of_elements\n",
    "            for i in range(number_of_elements):\n",
    "                backup_increased[i] = backup[i]\n",
    "            backup = backup_increased.copy()\n",
    "        backup[number_of_elements] = Bn\n",
    "        number_of_elements += 1\n",
    "      \n",
    "    print(backup[N])\n",
    "    return backup"
   ]
  },
  {
   "cell_type": "code",
   "execution_count": 11,
   "metadata": {},
   "outputs": [
    {
     "name": "stdout",
     "output_type": "stream",
     "text": [
      "620148005320594349761992409216291369771968706850462192980513954752087239802719677217667352364366666861791883765039099622964473647411041927825066904204260540047168174557271047079298939760679978779482995169680183396701712462431459571772268204554597740005633903517910965643523482334816842598251792032310702898639590951009609042931715971420246856449684341121699120612122681566452704399824402730341822694616456660453947988193542466819137998878908625542928013238962863345483473517723017958524935400995823845574078057902623635154098515431561414821637496848346446384889314308741624030751620437384096134269347594267238378554841409451705588717033780306267473846273911885193830823136850168996680646295149020953552232903362950578820081809096879141047113036442838688511717774176579293620049268539246071503076671024372619\n"
     ]
    }
   ],
   "source": [
    "R = Rule(\"B = <z^0> + <z^1> + <z> * B + <z> * B * B\")\n",
    "X = count(1001,R)"
   ]
  },
  {
   "cell_type": "markdown",
   "metadata": {},
   "source": [
    "## Unranking "
   ]
  },
  {
   "cell_type": "code",
   "execution_count": 12,
   "metadata": {},
   "outputs": [],
   "source": [
    "def factor_of_partition(n,duplicates):\n",
    "    denominator = 1\n",
    "    for e in duplicates:\n",
    "        denominator *= e\n",
    "    return factorial(n)//denominator"
   ]
  },
  {
   "cell_type": "code",
   "execution_count": 13,
   "metadata": {},
   "outputs": [
    {
     "data": {
      "text/plain": [
       "8"
      ]
     },
     "execution_count": 13,
     "metadata": {},
     "output_type": "execute_result"
    }
   ],
   "source": [
    "factor_of_partition(4,[2,3])*2"
   ]
  },
  {
   "cell_type": "code",
   "execution_count": 14,
   "metadata": {},
   "outputs": [],
   "source": [
    "def who_and_how(part):\n",
    "    who = [part[0]]\n",
    "    how = [1]\n",
    "    for i in range(1, len(part)):\n",
    "        if part[i] == who[0]:\n",
    "            how[0] += 1\n",
    "        else:\n",
    "            who = [part[i]] + who\n",
    "            how = [1] + how\n",
    "    return who,how"
   ]
  },
  {
   "cell_type": "code",
   "execution_count": 15,
   "metadata": {},
   "outputs": [],
   "source": [
    "def switch_to_n_combination(part,n):\n",
    "    who,how = who_and_how(part)\n",
    "    if len(how) == 1: \n",
    "        return part\n",
    "    combination = [0]*len(part)\n",
    "    \n",
    "    \n",
    "    for i in range(len(part)):\n",
    "        q = 0\n",
    "        step = factor_of_partition(len(part) - i - 1, how)  \n",
    "        while n - step*how[q] >= 0:\n",
    "            n -= step*how[q]\n",
    "            q += 1\n",
    "        combination[i] = who[q]\n",
    "        how[q] -= 1\n",
    "        if how[q] == 0:\n",
    "            del how[q]\n",
    "            del who[q]\n",
    "    return combination"
   ]
  },
  {
   "cell_type": "code",
   "execution_count": 16,
   "metadata": {},
   "outputs": [
    {
     "name": "stdout",
     "output_type": "stream",
     "text": [
      "[4, 3, 2, 1]\n",
      "[4, 3, 1, 2]\n",
      "[4, 2, 3, 1]\n",
      "[4, 2, 1, 3]\n",
      "[4, 1, 3, 2]\n",
      "[4, 1, 2, 3]\n",
      "[3, 4, 2, 1]\n",
      "[3, 4, 1, 2]\n",
      "[3, 2, 4, 1]\n",
      "[3, 2, 1, 4]\n",
      "[3, 1, 4, 2]\n",
      "[3, 1, 2, 4]\n",
      "[2, 4, 3, 1]\n",
      "[2, 4, 1, 3]\n",
      "[2, 3, 4, 1]\n",
      "[2, 3, 1, 4]\n",
      "[2, 1, 4, 3]\n",
      "[2, 1, 3, 4]\n",
      "[1, 4, 3, 2]\n",
      "[1, 4, 2, 3]\n",
      "[1, 3, 4, 2]\n",
      "[1, 3, 2, 4]\n",
      "[1, 2, 4, 3]\n",
      "[1, 2, 3, 4]\n"
     ]
    }
   ],
   "source": [
    "for i in range(0,24):\n",
    "    print(switch_to_n_combination([1,2,3,4],i))"
   ]
  },
  {
   "cell_type": "code",
   "execution_count": 17,
   "metadata": {},
   "outputs": [],
   "source": [
    "def unranking(size,index,rule,draw = False):\n",
    "    \n",
    "    backup = count(size,rule)\n",
    "    G = nx.Graph()\n",
    "    global nodes\n",
    "    nodes = 0\n",
    "    colors = []\n",
    "    def aux(size,index,parent):\n",
    "        global nodes\n",
    "        G.add_node(nodes)\n",
    "        current = nodes\n",
    "        if current == 0: colors.append(\"black\")\n",
    "        nodes += 1\n",
    "        \n",
    "            \n",
    "        cursor = 0\n",
    "        for component in rule.components:\n",
    "            if number_of_recursions(component) == 0 and number_of_nodes(component) == size:\n",
    "                if parent != None:\n",
    "                    G.add_edge(parent,current)\n",
    "                    colors.append(\"red\")\n",
    "                return\n",
    "            if number_of_recursions(component) != 0 and number_of_nodes(component) <= size:\n",
    "                part = [size - number_of_nodes(component)] + [0]*(number_of_recursions(component) - 1)\n",
    "                modification = True\n",
    "                who,how = who_and_how(part)\n",
    "                factor = factor_of_partition(len(part),how)\n",
    "                while modification:\n",
    "                    product = 1\n",
    "                    for e in part:\n",
    "                        product *= backup[e]\n",
    "                    if factor*product - 1>= index :\n",
    "                        index -= cursor\n",
    "                        nieme_combination = index//product\n",
    "                        if parent != None:\n",
    "                            G.add_edge(parent,current)\n",
    "                            colors.append(\"blue\")\n",
    "                        \n",
    "                        combination = switch_to_n_combination(part,nieme_combination)\n",
    "                        index -= nieme_combination * product\n",
    "                        for e in combination:\n",
    "                            product = product // backup[e]\n",
    "                            aux(e,index//product,current)\n",
    "                            index %= product\n",
    "                        return\n",
    "                    else:\n",
    "                        index -= factor*product\n",
    "                        modification,factor,part = next_partition_with_factor(part)\n",
    "    aux(size,index,None)\n",
    "    print(colors)\n",
    "    if draw: nx.draw(G,node_color = colors)\n",
    "                    "
   ]
  },
  {
   "cell_type": "code",
   "execution_count": 26,
   "metadata": {},
   "outputs": [
    {
     "name": "stdout",
     "output_type": "stream",
     "text": [
      "14\n",
      "['black', 'blue', 'blue', 'red', 'red', 'red', 'blue', 'red', 'red']\n"
     ]
    },
    {
     "data": {
      "image/png": "[encoded data removed]",
      "text/plain": [
       "<matplotlib.figure.Figure at 0x99784a8>"
      ]
     },
     "metadata": {},
     "output_type": "display_data"
    }
   ],
   "source": [
    "nodes = 0\n",
    "R = Rule(\"B = <z^0> + <z> * B * B\")\n",
    "unranking(4,13,R,True)"
   ]
  }
 ],
 "metadata": {
  "kernelspec": {
   "display_name": "Python 3",
   "language": "python",
   "name": "python3"
  },
  "language_info": {
   "codemirror_mode": {
    "name": "ipython",
    "version": 3
   },
   "file_extension": ".py",
   "mimetype": "text/x-python",
   "name": "python",
   "nbconvert_exporter": "python",
   "pygments_lexer": "ipython3",
   "version": "3.6.4"
  }
 },
 "nbformat": 4,
 "nbformat_minor": 2
}

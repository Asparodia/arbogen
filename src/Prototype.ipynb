{
 "cells": [
  {
   "cell_type": "code",
   "execution_count": 1,
   "metadata": {},
   "outputs": [],
   "source": [
    "from numpy import array"
   ]
  },
  {
   "cell_type": "markdown",
   "metadata": {},
   "source": [
    "## Grammar\n",
    "/!\\ Ne pas retranscrire en Ocaml, il s'agit d'une version python de la grammaire d'Arbogen."
   ]
  },
  {
   "cell_type": "code",
   "execution_count": 2,
   "metadata": {},
   "outputs": [],
   "source": [
    "class Elem(str):\n",
    "    \n",
    "    def __init__(self, string):\n",
    "        self = string\n",
    "        \n",
    "    def __str__(self):\n",
    "        return self"
   ]
  },
  {
   "cell_type": "code",
   "execution_count": 3,
   "metadata": {},
   "outputs": [],
   "source": [
    "class Component():\n",
    "    \n",
    "    def __init__(self, string, rule_name):\n",
    "        string = string.replace(' ','').split('*')\n",
    "        self.int = 0\n",
    "        self.elements = []\n",
    "        for s in string:\n",
    "            if s[:2] == '<z':\n",
    "                if s[2] == '>':\n",
    "                    self.int += 1\n",
    "                else:\n",
    "                    self.int += int(s[3])\n",
    "            if s == rule_name:\n",
    "                self.elements.append(Elem(s))     \n",
    "                \n",
    "    def __str__(self):\n",
    "        if self.int == 0:\n",
    "            string = \"Eps * \"\n",
    "        elif self.int == 1:\n",
    "            string = \"<z> * \"\n",
    "        else:\n",
    "            string = \"<z^\" + str(self.int) + \"> * \"\n",
    "        for element in self.elements:\n",
    "            string += str(element) + \" * \"\n",
    "        return string[:-3]"
   ]
  },
  {
   "cell_type": "code",
   "execution_count": 4,
   "metadata": {},
   "outputs": [],
   "source": [
    "class Rule:\n",
    "    \n",
    "    def __init__(self, string):\n",
    "        self.name,string = string.replace(' ','').split('=')\n",
    "        self.components = []\n",
    "        for s in string.split('+'):\n",
    "            self.components.append(Component(s,self.name))\n",
    "    \n",
    "    def __str__(self):\n",
    "        string = self.name + ' = '\n",
    "        for component in self.components:\n",
    "            string += str(component) + \" + \"\n",
    "        return string[:-3]"
   ]
  },
  {
   "cell_type": "code",
   "execution_count": 5,
   "metadata": {},
   "outputs": [
    {
     "name": "stdout",
     "output_type": "stream",
     "text": [
      "B = Eps + <z> * B + <z^2> * B * B\n"
     ]
    }
   ],
   "source": [
    "R = Rule(\"B = <z^0> + <z> * B + <z^2> * B * B\")\n",
    "print(R)"
   ]
  },
  {
   "cell_type": "markdown",
   "metadata": {},
   "source": [
    "## Utils"
   ]
  },
  {
   "cell_type": "code",
   "execution_count": 6,
   "metadata": {},
   "outputs": [],
   "source": [
    "def number_of_recursions(component):\n",
    "    return len(component.elements)\n",
    "\n",
    "def number_of_nodes(component):\n",
    "    return component.int\n",
    "\n",
    "def number_of_leafs(component):\n",
    "    if component.int == 0:\n",
    "        return 1\n",
    "    else:\n",
    "        return 0"
   ]
  },
  {
   "cell_type": "code",
   "execution_count": 7,
   "metadata": {},
   "outputs": [],
   "source": [
    "def factorial(n):\n",
    "    result = 1\n",
    "    for i in range(1, n + 1):\n",
    "        result *= i\n",
    "    return result"
   ]
  },
  {
   "cell_type": "code",
   "execution_count": 8,
   "metadata": {},
   "outputs": [],
   "source": [
    "def next_partition_with_factor(base):\n",
    "    modification = False\n",
    "    duplicate = 1\n",
    "    den = 1\n",
    "    for i in range(0, len(base) - 1):\n",
    "        if not modification and base[i] - 1 >= base[i + 1] + 1:\n",
    "            base[i] -= 1\n",
    "            base[i + 1] += 1\n",
    "            modification = True\n",
    "        if base[i] == base[i+1]:\n",
    "            duplicate += 1\n",
    "            den *= duplicate\n",
    "        else:\n",
    "            duplicate = 1\n",
    "    return modification,factorial(len(base))//den, base\n",
    "                \n",
    "\n",
    "    "
   ]
  },
  {
   "cell_type": "markdown",
   "metadata": {},
   "source": [
    "## Backup"
   ]
  },
  {
   "cell_type": "code",
   "execution_count": 13,
   "metadata": {},
   "outputs": [],
   "source": [
    "def add_in_backup(backup,number_of_element,e):\n",
    "    if backup.size != number_of_element:\n",
    "        backup[number_of_element] = e\n",
    "    else:\n",
    "        backup_increased = array([0]*2*number_of_element)\n",
    "        for i in range(number_of_element):\n",
    "            backup_increased[i] = backup[i]\n",
    "            backup = backup_increased\n",
    "    return backup"
   ]
  },
  {
   "cell_type": "markdown",
   "metadata": {},
   "source": [
    "## Count"
   ]
  },
  {
   "cell_type": "code",
   "execution_count": 20,
   "metadata": {},
   "outputs": [],
   "source": [
    "def count(N,rule,verbose = False):\n",
    "    \n",
    "    iFile = open(\"backup.cnt\", 'r')\n",
    "    string = iFile.read().split('\\n')\n",
    "    iFile.close()\n",
    "    \n",
    "    backup = array([0] * max(len(string)*2,1000))\n",
    "    number_of_elements = 0\n",
    "    for i in range(len(string) - 1):\n",
    "        backup[i] = string[i]\n",
    "        number_of_elements += 1\n",
    "    \n",
    "    oFile = open(\"backup.cnt\",'a')\n",
    "    for n in range(number_of_elements,N + 1):\n",
    "        Bn = 0\n",
    "        for component in rule.components:\n",
    "            \n",
    "            if n - number_of_nodes(component) >= 0:\n",
    "                if number_of_recursions(component) == 0 and number_of_nodes(component) == n:\n",
    "                    Bn += 1\n",
    "                else:\n",
    "                    base = [n - number_of_nodes(component)] + [0]*(number_of_recursions(component) - 1)\n",
    "                    modification = True\n",
    "                    if number_of_nodes(component) == n:\n",
    "                        factor = 1\n",
    "                    else: factor = number_of_recursions(component)\n",
    "                    while modification:\n",
    "                        product = 1\n",
    "                        for e in base:\n",
    "                            product *= backup[e]\n",
    "                        Bn += product * factor\n",
    "                        modification, factor, base =  next_partition_with_factor(base)\n",
    "                        \n",
    "        if backup.size == number_of_elements:\n",
    "            backup_increased = array([0]*2*number_of_elements)\n",
    "            for i in range(number_of_elements):\n",
    "                backup_increased[i] = backup[i]\n",
    "                backup = backup_increased\n",
    "        backup[number_of_elements] = Bn\n",
    "        number_of_elements += 1\n",
    "        \n",
    "    return backup[:number_of_elements]"
   ]
  },
  {
   "cell_type": "code",
   "execution_count": 21,
   "metadata": {},
   "outputs": [
    {
     "data": {
      "text/plain": [
       "array([  1,   3,   9,  36, 162, 783])"
      ]
     },
     "execution_count": 21,
     "metadata": {},
     "output_type": "execute_result"
    }
   ],
   "source": [
    "R = Rule(\"B = <z^0> + <z^1> + <z> * B + <z> * B * B\")\n",
    "count(5,R)"
   ]
  }
 ],
 "metadata": {
  "kernelspec": {
   "display_name": "Python 2",
   "language": "python",
   "name": "python2"
  },
  "language_info": {
   "codemirror_mode": {
    "name": "ipython",
    "version": 2
   },
   "file_extension": ".py",
   "mimetype": "text/x-python",
   "name": "python",
   "nbconvert_exporter": "python",
   "pygments_lexer": "ipython2",
   "version": "2.7.9"
  }
 },
 "nbformat": 4,
 "nbformat_minor": 2
}
